{
 "cells": [
  {
   "cell_type": "code",
   "execution_count": 2,
   "id": "ba012156",
   "metadata": {},
   "outputs": [
    {
     "name": "stdout",
     "output_type": "stream",
     "text": [
      "      *\n",
      "     * *\n",
      "    * * *\n",
      "   * * * *\n",
      "  * * * * *\n"
     ]
    }
   ],
   "source": [
    "n=5\n",
    "for i in range(n):\n",
    "    print(\" \"*(n-i)+ \" *\"*(i+1))\n",
    "    "
   ]
  },
  {
   "cell_type": "code",
   "execution_count": 7,
   "id": "9af07cae",
   "metadata": {},
   "outputs": [
    {
     "name": "stdout",
     "output_type": "stream",
     "text": [
      "      *\n",
      "     * *\n",
      "    * * *\n",
      "   * * * *\n",
      "  * * * * *\n",
      "   * * * *\n",
      "    * * *\n",
      "     * *\n",
      "      *\n"
     ]
    }
   ],
   "source": [
    "n=5\n",
    "for i in range(n):\n",
    "    print(\" \"*(n-i)+ \" *\"*(i+1))\n",
    "    \n",
    "for j in range(n-1):\n",
    "    print(\" \"*(j+2)+\" *\"*(n-j-1))"
   ]
  },
  {
   "cell_type": "code",
   "execution_count": 9,
   "id": "f766c9e4",
   "metadata": {},
   "outputs": [
    {
     "name": "stdout",
     "output_type": "stream",
     "text": [
      "* * * * * \n",
      "* * * * * \n",
      "* * * * * \n",
      "* * * * * \n",
      "* * * * * \n"
     ]
    }
   ],
   "source": [
    "n=5\n",
    "for i in range(n):\n",
    "    print(\"* \"*n)"
   ]
  },
  {
   "cell_type": "code",
   "execution_count": 16,
   "id": "8b3239ff",
   "metadata": {},
   "outputs": [
    {
     "name": "stdout",
     "output_type": "stream",
     "text": [
      "     *\n",
      "    ***\n",
      "   *****\n",
      "  *******\n",
      " *********\n",
      "***********\n",
      " *********\n",
      "  *******\n",
      "   *****\n",
      "    ***\n",
      "     *\n"
     ]
    }
   ],
   "source": [
    "n=5\n",
    "for i in range(n):\n",
    "    print(\" \"*(n-i)+ \"*\"*(2*i+1))\n",
    "    \n",
    "for i in range(n,-1,-1):\n",
    "       print(\" \"*(n-i)+ \"*\"*(2*i+1))"
   ]
  },
  {
   "cell_type": "code",
   "execution_count": 22,
   "id": "aeff0a52",
   "metadata": {},
   "outputs": [
    {
     "name": "stdout",
     "output_type": "stream",
     "text": [
      "<class 'float'>\n"
     ]
    }
   ],
   "source": [
    "print(type(1/2))"
   ]
  },
  {
   "cell_type": "code",
   "execution_count": 21,
   "id": "c276397d",
   "metadata": {},
   "outputs": [
    {
     "name": "stdout",
     "output_type": "stream",
     "text": [
      "{'it': 'alpha', 'he': 'Us', 0: '2022'}\n"
     ]
    }
   ],
   "source": [
    "a={\"it\":\"alpha\",\"he\":\"Us\"}\n",
    "a[0]=\"2022\"\n",
    "print(a)"
   ]
  },
  {
   "cell_type": "code",
   "execution_count": 26,
   "id": "56305a9d",
   "metadata": {},
   "outputs": [
    {
     "name": "stdout",
     "output_type": "stream",
     "text": [
      "<class 'int'>\n"
     ]
    }
   ],
   "source": [
    "a={\"it\":\"alpha\",\"he\":\"Us\",\"Hi\":2022}\n",
    "print(type(a[\"Hi\"]))"
   ]
  },
  {
   "cell_type": "code",
   "execution_count": 27,
   "id": "80c40b7d",
   "metadata": {},
   "outputs": [
    {
     "name": "stdout",
     "output_type": "stream",
     "text": [
      "<class 'str'>\n"
     ]
    }
   ],
   "source": [
    "a={\"it\":\"alpha\",\"he\":\"Us\",\"Hi\":2022}\n",
    "print(type(a[\"it\"]))"
   ]
  },
  {
   "cell_type": "code",
   "execution_count": 28,
   "id": "a497896c",
   "metadata": {},
   "outputs": [
    {
     "name": "stdout",
     "output_type": "stream",
     "text": [
      "<class 'dict'>\n"
     ]
    }
   ],
   "source": [
    "a={\"it\":\"alpha\",\"he\":\"Us\",\"Hi\":2022}\n",
    "print(type(a ))"
   ]
  },
  {
   "cell_type": "code",
   "execution_count": 29,
   "id": "5b9bac63",
   "metadata": {},
   "outputs": [
    {
     "name": "stdout",
     "output_type": "stream",
     "text": [
      "1.0\n",
      "4.0\n"
     ]
    },
    {
     "data": {
      "text/plain": [
       "(None, None)"
      ]
     },
     "execution_count": 29,
     "metadata": {},
     "output_type": "execute_result"
    }
   ],
   "source": [
    "print(8/4/2) , print(8/(4/2))"
   ]
  },
  {
   "cell_type": "code",
   "execution_count": 30,
   "id": "9b4202bb",
   "metadata": {},
   "outputs": [
    {
     "name": "stdout",
     "output_type": "stream",
     "text": [
      "3\n"
     ]
    }
   ],
   "source": [
    "print(10//3)"
   ]
  },
  {
   "cell_type": "code",
   "execution_count": 33,
   "id": "0b41debe",
   "metadata": {},
   "outputs": [
    {
     "data": {
      "text/plain": [
       "False"
      ]
     },
     "execution_count": 33,
     "metadata": {},
     "output_type": "execute_result"
    }
   ],
   "source": [
    "a=10\n",
    "b=20\n",
    "a>b"
   ]
  },
  {
   "cell_type": "code",
   "execution_count": 34,
   "id": "a22086b7",
   "metadata": {},
   "outputs": [
    {
     "data": {
      "text/plain": [
       "False"
      ]
     },
     "execution_count": 34,
     "metadata": {},
     "output_type": "execute_result"
    }
   ],
   "source": [
    "a=\"10\"\n",
    "b='20'\n",
    "a>b"
   ]
  },
  {
   "cell_type": "code",
   "execution_count": 36,
   "id": "bec5165c",
   "metadata": {},
   "outputs": [
    {
     "data": {
      "text/plain": [
       "64"
      ]
     },
     "execution_count": 36,
     "metadata": {},
     "output_type": "execute_result"
    }
   ],
   "source": [
    "2**3 ** 2**1"
   ]
  },
  {
   "cell_type": "markdown",
   "id": "68987ab8",
   "metadata": {},
   "source": [
    "# List in a Dictionary"
   ]
  },
  {
   "cell_type": "code",
   "execution_count": 37,
   "id": "f05a3fad",
   "metadata": {},
   "outputs": [
    {
     "data": {
      "text/plain": [
       "{'Foods': ['I,j,k'], 'Sports': ['Cricket', 'Footbal', 'hockey']}"
      ]
     },
     "execution_count": 37,
     "metadata": {},
     "output_type": "execute_result"
    }
   ],
   "source": [
    "a={\"Foods\":[\"I,j,k\"],\"Sports\":[\"Cricket\",\"Footbal\",\"hockey\"]}\n",
    "a"
   ]
  },
  {
   "cell_type": "code",
   "execution_count": 38,
   "id": "0291ce87",
   "metadata": {},
   "outputs": [
    {
     "data": {
      "text/plain": [
       "['I,j,k']"
      ]
     },
     "execution_count": 38,
     "metadata": {},
     "output_type": "execute_result"
    }
   ],
   "source": [
    "a[\"Foods\"]"
   ]
  },
  {
   "cell_type": "code",
   "execution_count": 39,
   "id": "2a63d1d5",
   "metadata": {},
   "outputs": [
    {
     "data": {
      "text/plain": [
       "['Cricket', 'Footbal', 'hockey']"
      ]
     },
     "execution_count": 39,
     "metadata": {},
     "output_type": "execute_result"
    }
   ],
   "source": [
    "a[\"Sports\"]"
   ]
  },
  {
   "cell_type": "code",
   "execution_count": 40,
   "id": "d929071c",
   "metadata": {},
   "outputs": [
    {
     "data": {
      "text/plain": [
       "'hockey'"
      ]
     },
     "execution_count": 40,
     "metadata": {},
     "output_type": "execute_result"
    }
   ],
   "source": [
    "a[\"Sports\"][2]"
   ]
  },
  {
   "cell_type": "code",
   "execution_count": 47,
   "id": "71f89fd9",
   "metadata": {},
   "outputs": [
    {
     "data": {
      "text/plain": [
       "['I,j,k']"
      ]
     },
     "execution_count": 47,
     "metadata": {},
     "output_type": "execute_result"
    }
   ],
   "source": [
    "a[\"Foods\"][:2]"
   ]
  },
  {
   "cell_type": "code",
   "execution_count": 49,
   "id": "42808d87",
   "metadata": {},
   "outputs": [
    {
     "data": {
      "text/plain": [
       "'Footbal'"
      ]
     },
     "execution_count": 49,
     "metadata": {},
     "output_type": "execute_result"
    }
   ],
   "source": [
    "a[\"Sports\"][1]"
   ]
  },
  {
   "cell_type": "code",
   "execution_count": 50,
   "id": "2054c991",
   "metadata": {},
   "outputs": [
    {
     "data": {
      "text/plain": [
       "'Cricket'"
      ]
     },
     "execution_count": 50,
     "metadata": {},
     "output_type": "execute_result"
    }
   ],
   "source": [
    "a[\"Sports\"][0]"
   ]
  },
  {
   "cell_type": "code",
   "execution_count": 51,
   "id": "f5adeab5",
   "metadata": {},
   "outputs": [
    {
     "data": {
      "text/plain": [
       "['Cricket', 'Footbal', 'hockey']"
      ]
     },
     "execution_count": 51,
     "metadata": {},
     "output_type": "execute_result"
    }
   ],
   "source": [
    "a[\"Sports\"][:]"
   ]
  },
  {
   "cell_type": "code",
   "execution_count": 53,
   "id": "5e2a6543",
   "metadata": {},
   "outputs": [
    {
     "data": {
      "text/plain": [
       "['Cricket', 'Footbal']"
      ]
     },
     "execution_count": 53,
     "metadata": {},
     "output_type": "execute_result"
    }
   ],
   "source": [
    "a[\"Sports\"][:2]"
   ]
  },
  {
   "cell_type": "markdown",
   "id": "de40dd5d",
   "metadata": {},
   "source": [
    "# Dictionary in a list"
   ]
  },
  {
   "cell_type": "code",
   "execution_count": 57,
   "id": "da125ed4",
   "metadata": {},
   "outputs": [
    {
     "data": {
      "text/plain": [
       "[{'Name': 'Dildar', 'Hobby': 'Cricket'},\n",
       " {'Sports': 'Cricket', 'Food': 'Apple'}]"
      ]
     },
     "execution_count": 57,
     "metadata": {},
     "output_type": "execute_result"
    }
   ],
   "source": [
    "a=[\n",
    "    {\n",
    "        \"Name\":\"Dildar\",\n",
    "        \"Hobby\":\"Cricket\"\n",
    "    },\n",
    "    {\n",
    "        \"Sports\":\"Cricket\",\n",
    "        \"Food\":\"Apple\"\n",
    "    }\n",
    "]\n",
    "a"
   ]
  },
  {
   "cell_type": "code",
   "execution_count": 59,
   "id": "c32aa145",
   "metadata": {},
   "outputs": [
    {
     "data": {
      "text/plain": [
       "[{'Numbers': [1, 2, 3, 4, 5, 6, 7, 8]}, {'List': [2, 3, 4, 5, 6, 7, 8]}]"
      ]
     },
     "execution_count": 59,
     "metadata": {},
     "output_type": "execute_result"
    }
   ],
   "source": [
    "b=[{\"Numbers\":[1,2,3,4,5,6,7,8]},\n",
    "  {\n",
    "      \"List\":[2,3,4,5,6,7,8]\n",
    "  }\n",
    "  ]\n",
    "b"
   ]
  },
  {
   "cell_type": "code",
   "execution_count": 60,
   "id": "594f576e",
   "metadata": {},
   "outputs": [
    {
     "data": {
      "text/plain": [
       "{'Numbers': [1, 2, 3, 4, 5, 6, 7, 8]}"
      ]
     },
     "execution_count": 60,
     "metadata": {},
     "output_type": "execute_result"
    }
   ],
   "source": [
    "b[0]"
   ]
  },
  {
   "cell_type": "code",
   "execution_count": 61,
   "id": "805c28bc",
   "metadata": {},
   "outputs": [
    {
     "data": {
      "text/plain": [
       "{'List': [2, 3, 4, 5, 6, 7, 8]}"
      ]
     },
     "execution_count": 61,
     "metadata": {},
     "output_type": "execute_result"
    }
   ],
   "source": [
    "b[1]"
   ]
  },
  {
   "cell_type": "code",
   "execution_count": 63,
   "id": "bc6dccc2",
   "metadata": {},
   "outputs": [
    {
     "data": {
      "text/plain": [
       "6"
      ]
     },
     "execution_count": 63,
     "metadata": {},
     "output_type": "execute_result"
    }
   ],
   "source": [
    "b[0][\"Numbers\"][5]"
   ]
  },
  {
   "cell_type": "code",
   "execution_count": 66,
   "id": "a1454b5c",
   "metadata": {},
   "outputs": [
    {
     "data": {
      "text/plain": [
       "8"
      ]
     },
     "execution_count": 66,
     "metadata": {},
     "output_type": "execute_result"
    }
   ],
   "source": [
    "b[0][\"Numbers\"][7]"
   ]
  },
  {
   "cell_type": "code",
   "execution_count": 67,
   "id": "1dc4c08d",
   "metadata": {},
   "outputs": [],
   "source": [
    "a={\n",
    "    \"Number1\":{\"Even\":[2,4,6,8]},\n",
    "    \"Number2\":{\"Odd\":[1,3,5,7,9]}\n",
    "}"
   ]
  },
  {
   "cell_type": "code",
   "execution_count": 68,
   "id": "3b3b9235",
   "metadata": {},
   "outputs": [
    {
     "data": {
      "text/plain": [
       "{'Number1': {'Even': [2, 4, 6, 8]}, 'Number2': {'Odd': [1, 3, 5, 7, 9]}}"
      ]
     },
     "execution_count": 68,
     "metadata": {},
     "output_type": "execute_result"
    }
   ],
   "source": [
    "a"
   ]
  },
  {
   "cell_type": "code",
   "execution_count": 70,
   "id": "cf6809af",
   "metadata": {},
   "outputs": [
    {
     "data": {
      "text/plain": [
       "{'Even': [2, 4, 6, 8]}"
      ]
     },
     "execution_count": 70,
     "metadata": {},
     "output_type": "execute_result"
    }
   ],
   "source": [
    "a[\"Number1\"]"
   ]
  },
  {
   "cell_type": "code",
   "execution_count": 71,
   "id": "2a59231b",
   "metadata": {},
   "outputs": [
    {
     "data": {
      "text/plain": [
       "[2, 4, 6, 8]"
      ]
     },
     "execution_count": 71,
     "metadata": {},
     "output_type": "execute_result"
    }
   ],
   "source": [
    "a[\"Number1\"][\"Even\"]"
   ]
  },
  {
   "cell_type": "code",
   "execution_count": 73,
   "id": "f564da02",
   "metadata": {},
   "outputs": [
    {
     "data": {
      "text/plain": [
       "8"
      ]
     },
     "execution_count": 73,
     "metadata": {},
     "output_type": "execute_result"
    }
   ],
   "source": [
    "a[\"Number1\"][\"Even\"][3]"
   ]
  },
  {
   "cell_type": "code",
   "execution_count": 77,
   "id": "cbe56c5b",
   "metadata": {},
   "outputs": [
    {
     "data": {
      "text/plain": [
       "[9, 7, 5, 3, 1]"
      ]
     },
     "execution_count": 77,
     "metadata": {},
     "output_type": "execute_result"
    }
   ],
   "source": [
    "a[\"Number2\"][\"Odd\"][::-1]"
   ]
  },
  {
   "cell_type": "code",
   "execution_count": null,
   "id": "523ea13a",
   "metadata": {},
   "outputs": [],
   "source": []
  }
 ],
 "metadata": {
  "kernelspec": {
   "display_name": "Python 3 (ipykernel)",
   "language": "python",
   "name": "python3"
  },
  "language_info": {
   "codemirror_mode": {
    "name": "ipython",
    "version": 3
   },
   "file_extension": ".py",
   "mimetype": "text/x-python",
   "name": "python",
   "nbconvert_exporter": "python",
   "pygments_lexer": "ipython3",
   "version": "3.9.7"
  }
 },
 "nbformat": 4,
 "nbformat_minor": 5
}
